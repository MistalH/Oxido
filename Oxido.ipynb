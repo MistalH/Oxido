{
 "cells": [
  {
   "cell_type": "code",
   "execution_count": 23,
   "id": "e81fca7e",
   "metadata": {},
   "outputs": [],
   "source": [
    "import openai"
   ]
  },
  {
   "cell_type": "code",
   "execution_count": 87,
   "id": "96d69988",
   "metadata": {},
   "outputs": [],
   "source": [
    "openai.api_key = 'sk-proj-'\n"
   ]
  },
  {
   "cell_type": "code",
   "execution_count": 25,
   "id": "d4bc9fe5-a707-43e3-a002-c6c836c2443f",
   "metadata": {},
   "outputs": [
    {
     "name": "stdout",
     "output_type": "stream",
     "text": [
      "Sztuczna inteligencja: wpĹyw i wyzwania\n",
      "\n",
      "Sztuczna inteligencja to dziedzina nauki i technologii zajmujÄ",
      "ca siÄ tworzeniem maszyn i programĂłw zdolnych do wykonywania zadaĹ wymagajÄ",
      "cych ludzkiej inteligencji, takich jak uczenie siÄ, rozumienie jÄzyka naturalnego i podejmowanie decyzji. AI staĹa siÄ integralnÄ",
      " czÄĹciÄ",
      " naszego codziennego Ĺźycia, od asystentĂłw gĹosowych w smartfonach, jak Siri czy Google Assistant, po systemy rekomendacyjne na platformach streamingowych, takich jak Netflix czy Spotify. Wspiera nas w planowaniu tras, automatyzacji domowych urzÄ",
      "dzeĹ oraz w komunikacji. Obecnie jest o niej bardzo gĹoĹno chociaĹźby za sprawÄ",
      " duĹźych modeli jÄzykowych, jak ChatGPT. \n",
      "\n",
      "RozwĂłj uczenia maszynowego i gĹÄbokiego uczenia umoĹźliwiĹ tworzenie zaawansowanych modeli, ktĂłre potrafiÄ",
      " samodzielnie rozwiÄ",
      "zywaÄ skomplikowane problemy. Sieci neuronowe analizujÄ",
      " ogromne iloĹci danych w obszarach takich jak rozpoznawanie obrazĂłw czy przetwarzanie jÄzyka naturalnego. DziÄki temu AI nie tylko przetwarza dane, ale takĹźe podejmuje decyzje, wczeĹniej zarezerwowane dla ludzi.\n",
      "\n",
      "Wyzwania etyczne i spoĹeczne\n",
      "\n",
      "Kluczowym wyzwaniem jest zapewnienie etycznego i odpowiedzialnego rozwoju AI. NaleĹźy zwracaÄ uwagÄ na uprzedzenia w danych treningowych, ktĂłre mogÄ",
      " prowadziÄ do dyskryminacji, oraz na wpĹyw AI na prywatnoĹÄ i nierĂłwnoĹci spoĹeczne. WaĹźne jest opracowanie ram etycznych i mechanizmĂłw nadzoru regulujÄ",
      "cych rozwĂłj i wdraĹźanie AI, a takĹźe wĹÄ",
      "czanie rĂłĹźnych grup spoĹecznych w ten proces. TransparentnoĹÄ dziaĹaĹ firm i instytucji moĹźe pomĂłc w budowaniu zaufania do technologii.\n",
      "\n",
      "Badacze pracujÄ",
      " nad rozwiÄ",
      "zaniami umoĹźliwiajÄ",
      "cymi harmonijne wspĂłĹistnienie ludzi i AI, koncentrujÄ",
      "c siÄ na tworzeniu systemĂłw wspierajÄ",
      "cych czĹowieka, a nie go zastÄpujÄ",
      "cych. Istotne jest opracowywanie mechanizmĂłw wspĂłĹpracy miÄdzy czĹowiekiem a maszynÄ",
      ", co sprzyja synergii i skutecznej komunikacji.\n",
      "\n",
      "Automatyzacja i przyszĹoĹÄ rynku pracy\n",
      "\n",
      "Automatyzacja procesĂłw dziÄki AI przynosi korzyĹci w postaci zwiÄkszonej efektywnoĹci i redukcji kosztĂłw. Jednak istniejÄ",
      " obawy dotyczÄ",
      "ce wpĹywu na rynek pracy i potencjalnego zastÄ",
      "pienia ludzi przez maszyny. Kluczowe jest przemyĹlane podejĹcie do transformacji rynku pracy, inwestycja w edukacjÄ i przekwalifikowanie pracownikĂłw, aby mogli oni znaleĹşÄ nowe role w gospodarce przyszĹoĹci.\n",
      "\n",
      "SpecjaliĹci powinni byÄ gotowi na ciÄ",
      "gĹe doskonalenie swoich umiejÄtnoĹci, uczÄ",
      "c siÄ m.in. zasad dziaĹania algorytmĂłw AI. PrzyszĹoĹÄ pracy bÄdzie wymagaÄ nie tylko umiejÄtnoĹci technicznych, ale takĹźe kompetencji miÄkkich, takich jak kreatywnoĹÄ i zdolnoĹÄ rozwiÄ",
      "zywania problemĂłw.\n",
      "\n",
      "Nasza zdolnoĹÄ do adaptacji i innowacji zdecyduje o tym, jak AI wpĹynie na przyszĹoĹÄ ludzkoĹci. WspĂłlnie moĹźemy ksztaĹtowaÄ tÄ przyszĹoĹÄ, wykorzystujÄ",
      "c AI dla dobra wszystkich.\n",
      "\n",
      "*Tekst opracowany przez AI. W Oxido nie mamy aĹź tak cukierkowego spojrzenia na sztucznÄ",
      " inteligencjÄ... ;)\n"
     ]
    }
   ],
   "source": [
    "with open('artykul.txt', 'r', encoding='utf-8') as file:\n",
    "    content = file.read()\n",
    "print(content)\n"
   ]
  },
  {
   "cell_type": "code",
   "execution_count": 4,
   "id": "3e138275",
   "metadata": {},
   "outputs": [
    {
     "name": "stdout",
     "output_type": "stream",
     "text": [
      "Renewable energy sources have numerous benefits, including:\n",
      "\n",
      "1. Environmental sustainability: Renewable energy sources like solar, wind, and hydropower produce minimal greenhouse gas emissions, helping to combat climate change and reduce air and water pollution.\n",
      "\n",
      "2. Energy security: By diversifying our energy sources and reducing our reliance on fossil fuels, renewable energy can enhance energy security and reduce the risks associated with volatile fuel prices and supply disruptions.\n",
      "\n",
      "3. Economic growth and job creation: The renewable energy sector has the potential to\n"
     ]
    }
   ],
   "source": [
    "response = openai.ChatCompletion.create(\n",
    "    model=\"gpt-3.5-turbo\",  \n",
    "    messages=[\n",
    "        {\"role\": \"system\", \"content\": \"You are a helpful assistant.\"},\n",
    "        {\"role\": \"user\", \"content\": \"What are the benefits of renewable energy?\"},\n",
    "    ],\n",
    "    max_tokens=100,\n",
    "    temperature=0.7,\n",
    ")\n",
    "\n",
    "print(response[\"choices\"][0][\"message\"][\"content\"])\n"
   ]
  },
  {
   "cell_type": "code",
   "execution_count": 27,
   "id": "49fd4864",
   "metadata": {},
   "outputs": [],
   "source": [
    "\n",
    "import logging\n",
    "\n",
    "# Konfiguracja logowania błędów\n",
    "logging.basicConfig(\n",
    "    filename=\"error_log.txt\",\n",
    "    level=logging.ERROR,\n",
    "    format=\"%(asctime)s - %(levelname)s - %(message)s\"\n",
    ")\n",
    "\n",
    "def load_api_key():\n",
    "    \"\"\"\n",
    "    Load API key from an environment variable for better security.\n",
    "    \"\"\"\n",
    "    api_key = os.getenv(\"OPENAI_API_KEY\")\n",
    "    if not api_key:\n",
    "        raise EnvironmentError(\"OpenAI API key not found in environment variables.\")\n",
    "    return api_key\n",
    "\n",
    "# Inicjalizacja klucza API\n",
    "try:\n",
    "    openai.api_key = load_api_key()\n",
    "except EnvironmentError as e:\n",
    "    logging.error(e)\n",
    "    raise\n"
   ]
  },
  {
   "cell_type": "code",
   "execution_count": 28,
   "id": "e8589606-6424-4644-8cb5-a119e2a49a9c",
   "metadata": {},
   "outputs": [],
   "source": [
    "def validate_and_load_file(file_path):\n",
    "    \"\"\"\n",
    "    Validate the file and load its content.\n",
    "    \"\"\"\n",
    "    if not os.path.exists(file_path):\n",
    "        error_msg = f\"File '{file_path}' does not exist.\"\n",
    "        logging.error(error_msg)\n",
    "        raise FileNotFoundError(error_msg)\n",
    "    if os.path.getsize(file_path) == 0:\n",
    "        error_msg = f\"File '{file_path}' is empty.\"\n",
    "        logging.error(error_msg)\n",
    "        raise ValueError(error_msg)\n",
    "    \n",
    "    try:\n",
    "        with open(file_path, 'r', encoding='utf-8') as file:\n",
    "            content = file.read().strip()\n",
    "            if not content:\n",
    "                raise ValueError(f\"File '{file_path}' contains no valid data.\")\n",
    "            return content\n",
    "    except Exception as e:\n",
    "        logging.error(f\"Failed to read file '{file_path}': {e}\")\n",
    "        raise\n"
   ]
  },
  {
   "cell_type": "code",
   "execution_count": 36,
   "id": "e82ac7e5-0c90-44cb-a6c2-29729baadf08",
   "metadata": {},
   "outputs": [],
   "source": [
    "def split_content(content, max_length=2000):\n",
    "    \"\"\"\n",
    "    Split content into smaller chunks to fit within token limits.\n",
    "    \"\"\"\n",
    "    paragraphs = content.split(\"\\n\\n\")\n",
    "    chunks = []\n",
    "    current_chunk = []\n",
    "    current_length = 0\n",
    "\n",
    "    for paragraph in paragraphs:\n",
    "        paragraph_length = len(paragraph)\n",
    "        if current_length + paragraph_length > max_length:\n",
    "            chunks.append(\"\\n\\n\".join(current_chunk))\n",
    "            current_chunk = [paragraph]\n",
    "            current_length = paragraph_length\n",
    "        else:\n",
    "            current_chunk.append(paragraph)\n",
    "            current_length += paragraph_length\n",
    "    if current_chunk:\n",
    "        chunks.append(\"\\n\\n\".join(current_chunk))\n",
    "    return chunks\n"
   ]
  },
  {
   "cell_type": "code",
   "execution_count": 49,
   "id": "0958d032-01f9-4608-9c17-5adc12bee89a",
   "metadata": {},
   "outputs": [],
   "source": [
    "def call_openai_api(prompt, max_tokens=1500):\n",
    "    \"\"\"\n",
    "    Call the OpenAI API and handle potential errors with validation.\n",
    "    \"\"\"\n",
    "    try:\n",
    "        response = openai.ChatCompletion.create(\n",
    "            model=\"gpt-4\",\n",
    "            messages=[\n",
    "                {\"role\": \"system\", \"content\": \"You are an assistant that generates HTML code based on user input.\"},\n",
    "                {\"role\": \"user\", \"content\": prompt}\n",
    "            ],\n",
    "            max_tokens=max_tokens,\n",
    "            temperature=0.7,\n",
    "        )\n",
    "        if \"choices\" not in response or not response[\"choices\"]:\n",
    "            raise ValueError(\"Invalid response from OpenAI API.\")\n",
    "        return response[\"choices\"][0][\"message\"][\"content\"]\n",
    "    except openai.error.OpenAIError as e:\n",
    "        logging.error(f\"OpenAI API call failed: {e}\")\n",
    "        raise\n",
    "    except Exception as e:\n",
    "        logging.error(f\"Unexpected error during API call: {e}\")\n",
    "        raise\n"
   ]
  },
  {
   "cell_type": "code",
   "execution_count": 50,
   "id": "a015ac7c-0ffc-4dad-a10a-c4232cae0ad6",
   "metadata": {},
   "outputs": [],
   "source": [
    "def save_to_file(content, file_path):\n",
    "    \"\"\"\n",
    "    Save the content to a file.\n",
    "    \"\"\"\n",
    "    try:\n",
    "        with open(file_path, 'w', encoding='utf-8') as file:\n",
    "            file.write(content)\n",
    "        print(f\"Content saved to '{file_path}'.\")\n",
    "    except Exception as e:\n",
    "        logging.error(f\"Failed to save file '{file_path}': {e}\")\n",
    "        raise\n"
   ]
  },
  {
   "cell_type": "code",
   "execution_count": 89,
   "id": "78661505-13cc-4e14-9bbd-8b14655ab2a3",
   "metadata": {},
   "outputs": [],
   "source": [
    "def main():\n",
    "    try:\n",
    "        # Ścieżka do pliku wejściowego\n",
    "        article_file_path = \"artykul.txt\"\n",
    "\n",
    "        # Walidacja i wczytanie pliku\n",
    "        article_content = validate_and_load_file(article_file_path)\n",
    "\n",
    "        # Podział treści na fragmenty\n",
    "        chunks = split_content(article_content)\n",
    "\n",
    "        # Przetwarzanie każdego fragmentu\n",
    "        for i, chunk in enumerate(chunks):\n",
    "            prompt = f\"\"\"\n",
    "Przygotuj kod HTML dla poniższego artykułu, uwzględniając następujące wytyczne:\n",
    "\n",
    "1. **Struktura dokumentu HTML**:\n",
    "   - Kod HTML powinien zawierać semantyczne znaczniki, takie jak <article>, <section>, <header>, <footer>, <h1>, <h2>, itp.\n",
    "   - Podziel artykuł na sekcje z nagłówkami (<h2>) odpowiadającymi głównym podtytułom w treści.\n",
    "   - Wyróżnij pierwsze zdanie artykułu jako wprowadzenie, używając znacznika <strong> lub <em>, jeśli odpowiednie.\n",
    "\n",
    "2. **Grafiki i multimedia**:\n",
    "   - Dodaj miejsca na grafiki, używając tagów <img>. Ustaw wartość atrybutu src=\"image_placeholder.jpg\".\n",
    "   - Dodaj do obrazków atrybut alt opisujący, co powinno znajdować się na obrazie (np. \"Wykres przedstawiający dane sprzedażowe za 2023 rok\").\n",
    "   - Pod każdą grafiką dodaj podpis w znaczniku <figcaption>, np. \"Rysunek przedstawiający kluczowe dane statystyczne\".\n",
    "\n",
    "3. **Listy i wypunktowania**:\n",
    "   - Jeśli artykuł zawiera listy (np. punkty lub kroki), użyj odpowiednich tagów HTML, takich jak <ul> lub <ol>, oraz <li> dla elementów listy.\n",
    "\n",
    "4. **Linki i odniesienia**:\n",
    "   - Jeśli w tekście są odniesienia do innych źródeł, zamień je na działające linki HTML, używając znacznika <a href=\"URL\">.\n",
    "\n",
    "5. **Stylizacja**:\n",
    "   - Zastosuj znaczniki semantyczne, takie jak <blockquote>, <code>, czy <pre>, jeśli tekst zawiera cytaty, fragmenty kodu lub dane w formacie tabelarycznym.\n",
    "   - W przypadku cytatów dodaj atrybut cite w znaczniku <blockquote> z przykładowym źródłem.\n",
    "\n",
    "6. **Tabela zawartości**:\n",
    "   - Dodaj na początku artykułu tabelę zawartości (<nav>) z linkami do sekcji, wykorzystując znaczniki <a href=\"#id_sekcji\">.\n",
    "\n",
    "7. **Atrybuty dostępności (Accessibility)**:\n",
    "   - Upewnij się, że wszystkie tagi <img> mają odpowiednie opisy w atrybucie alt.\n",
    "   - Jeśli występują tabele, dodaj znaczniki <thead>, <tbody> i odpowiednie nagłówki <th>.\n",
    "\n",
    "8. **Treść artykułu**:\n",
    "   - Kod HTML powinien zawierać tylko zawartość między <body> i </body>, bez <html>, <head> lub <body>.\n",
    "   - Cały tekst artykułu poniżej.\n",
    "\n",
    "Oto artykuł:\n",
    "{chunk}\n",
    "\"\"\"\n",
    "\n",
    "            html_output = call_openai_api(prompt)\n",
    "\n",
    "            # Zapisanie wyników\n",
    "            output_file = f\"artykul_part_{i+1}.html\"\n",
    "            save_to_file(html_output, output_file)\n",
    "\n",
    "    except Exception as e:\n",
    "        logging.error(f\"Critical error in main process: {e}\")\n",
    "        print(f\"An error occurred: {e}\")\n"
   ]
  },
  {
   "cell_type": "code",
   "execution_count": 85,
   "id": "92d21201-da3f-4319-9871-f4c6aeca8eee",
   "metadata": {},
   "outputs": [],
   "source": [
    "def test_validate_and_load_file():\n",
    "    # Test dla istniejącego pliku\n",
    "    try:\n",
    "        content = validate_and_load_file(\"test_file.txt\")  # Plik testowy\n",
    "        assert content, \"File content should not be empty\"\n",
    "        print(\"File validation test passed.\")\n",
    "    except Exception as e:\n",
    "        print(f\"File validation test failed: {e}\")\n",
    "\n",
    "def test_split_content():\n",
    "    # Test dla funkcji split_content\n",
    "    content = \"Paragraph 1.\\n\\nParagraph 2.\\n\\nParagraph 3.\"\n",
    "    chunks = split_content(content, max_length=15)\n",
    "    assert len(chunks) == 3, \"Content should split into 3 chunks.\"\n",
    "    print(\"Content splitting test passed.\")\n"
   ]
  },
  {
   "cell_type": "code",
   "execution_count": 88,
   "id": "e9e58a75-2633-4347-8066-4bd97a13192f",
   "metadata": {},
   "outputs": [
    {
     "name": "stdout",
     "output_type": "stream",
     "text": [
      "An error occurred: Incorrect API key provided: sk-proj-. You can find your API key at https://platform.openai.com/account/api-keys.\n"
     ]
    }
   ],
   "source": [
    "if __name__ == \"__main__\":\n",
    "    main()\n"
   ]
  },
  {
   "cell_type": "code",
   "execution_count": null,
   "id": "816761ed-880a-427f-9873-a55f664d467e",
   "metadata": {},
   "outputs": [],
   "source": []
  }
 ],
 "metadata": {
  "kernelspec": {
   "display_name": "Python 3 (ipykernel)",
   "language": "python",
   "name": "python3"
  },
  "language_info": {
   "codemirror_mode": {
    "name": "ipython",
    "version": 3
   },
   "file_extension": ".py",
   "mimetype": "text/x-python",
   "name": "python",
   "nbconvert_exporter": "python",
   "pygments_lexer": "ipython3",
   "version": "3.13.0"
  }
 },
 "nbformat": 4,
 "nbformat_minor": 5
}
