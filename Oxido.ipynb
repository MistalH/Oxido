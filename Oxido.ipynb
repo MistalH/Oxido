{
 "cells": [
  {
   "cell_type": "code",
   "execution_count": 10,
   "id": "e81fca7e",
   "metadata": {},
   "outputs": [],
   "source": [
    "import openai"
   ]
  },
  {
   "cell_type": "code",
   "execution_count": 17,
   "id": "96d69988",
   "metadata": {},
   "outputs": [],
   "source": [
    "openai.api_key = '###'\n"
   ]
  },
  {
   "cell_type": "code",
   "execution_count": 22,
   "id": "d4bc9fe5-a707-43e3-a002-c6c836c2443f",
   "metadata": {},
   "outputs": [
    {
     "name": "stdout",
     "output_type": "stream",
     "text": [
      "Sztuczna inteligencja: wpĹyw i wyzwania\n",
      "\n",
      "Sztuczna inteligencja to dziedzina nauki i technologii zajmujÄ\n",
      "ca siÄ tworzeniem maszyn i programĂłw zdolnych do wykonywania zadaĹ wymagajÄ\n",
      "cych ludzkiej inteligencji, takich jak uczenie siÄ, rozumienie jÄzyka naturalnego i podejmowanie decyzji. AI staĹa siÄ integralnÄ\n",
      " czÄĹciÄ\n",
      " naszego codziennego Ĺźycia, od asystentĂłw gĹosowych w smartfonach, jak Siri czy Google Assistant, po systemy rekomendacyjne na platformach streamingowych, takich jak Netflix czy Spotify. Wspiera nas w planowaniu tras, automatyzacji domowych urzÄ\n",
      "dzeĹ oraz w komunikacji. Obecnie jest o niej bardzo gĹoĹno chociaĹźby za sprawÄ\n",
      " duĹźych modeli jÄzykowych, jak ChatGPT. \n",
      "\n",
      "RozwĂłj uczenia maszynowego i gĹÄbokiego uczenia umoĹźliwiĹ tworzenie zaawansowanych modeli, ktĂłre potrafiÄ\n",
      " samodzielnie rozwiÄ\n",
      "zywaÄ skomplikowane problemy. Sieci neuronowe analizujÄ\n",
      " ogromne iloĹci danych w obszarach takich jak rozpoznawanie obrazĂłw czy przetwarzanie jÄzyka naturalnego. DziÄki temu AI nie tylko przetwarza dane, ale takĹźe podejmuje decyzje, wczeĹniej zarezerwowane dla ludzi.\n",
      "\n",
      "Wyzwania etyczne i spoĹeczne\n",
      "\n",
      "Kluczowym wyzwaniem jest zapewnienie etycznego i odpowiedzialnego rozwoju AI. NaleĹźy zwracaÄ uwagÄ na uprzedzenia w danych treningowych, ktĂłre mogÄ\n",
      " prowadziÄ do dyskryminacji, oraz na wpĹyw AI na prywatnoĹÄ i nierĂłwnoĹci spoĹeczne. WaĹźne jest opracowanie ram etycznych i mechanizmĂłw nadzoru regulujÄ\n",
      "cych rozwĂłj i wdraĹźanie AI, a takĹźe wĹÄ\n",
      "czanie rĂłĹźnych grup spoĹecznych w ten proces. TransparentnoĹÄ dziaĹaĹ firm i instytucji moĹźe pomĂłc w budowaniu zaufania do technologii.\n",
      "\n",
      "Badacze pracujÄ\n",
      " nad rozwiÄ\n",
      "zaniami umoĹźliwiajÄ\n",
      "cymi harmonijne wspĂłĹistnienie ludzi i AI, koncentrujÄ\n",
      "c siÄ na tworzeniu systemĂłw wspierajÄ\n",
      "cych czĹowieka, a nie go zastÄpujÄ\n",
      "cych. Istotne jest opracowywanie mechanizmĂłw wspĂłĹpracy miÄdzy czĹowiekiem a maszynÄ\n",
      ", co sprzyja synergii i skutecznej komunikacji.\n",
      "\n",
      "Automatyzacja i przyszĹoĹÄ rynku pracy\n",
      "\n",
      "Automatyzacja procesĂłw dziÄki AI przynosi korzyĹci w postaci zwiÄkszonej efektywnoĹci i redukcji kosztĂłw. Jednak istniejÄ\n",
      " obawy dotyczÄ\n",
      "ce wpĹywu na rynek pracy i potencjalnego zastÄ\n",
      "pienia ludzi przez maszyny. Kluczowe jest przemyĹlane podejĹcie do transformacji rynku pracy, inwestycja w edukacjÄ i przekwalifikowanie pracownikĂłw, aby mogli oni znaleĹşÄ nowe role w gospodarce przyszĹoĹci.\n",
      "\n",
      "SpecjaliĹci powinni byÄ gotowi na ciÄ\n",
      "gĹe doskonalenie swoich umiejÄtnoĹci, uczÄ\n",
      "c siÄ m.in. zasad dziaĹania algorytmĂłw AI. PrzyszĹoĹÄ pracy bÄdzie wymagaÄ nie tylko umiejÄtnoĹci technicznych, ale takĹźe kompetencji miÄkkich, takich jak kreatywnoĹÄ i zdolnoĹÄ rozwiÄ\n",
      "zywania problemĂłw.\n",
      "\n",
      "Nasza zdolnoĹÄ do adaptacji i innowacji zdecyduje o tym, jak AI wpĹynie na przyszĹoĹÄ ludzkoĹci. WspĂłlnie moĹźemy ksztaĹtowaÄ tÄ przyszĹoĹÄ, wykorzystujÄ\n",
      "c AI dla dobra wszystkich.\n",
      "\n",
      "*Tekst opracowany przez AI. W Oxido nie mamy aĹź tak cukierkowego spojrzenia na sztucznÄ\n",
      " inteligencjÄ... ;)\n"
     ]
    }
   ],
   "source": [
    "with open('artykul.txt', 'r', encoding='utf-8') as file:\n",
    "    content = file.read()\n",
    "print(content)\n"
   ]
  },
  {
   "cell_type": "code",
   "execution_count": 18,
   "id": "3e138275",
   "metadata": {},
   "outputs": [
    {
     "name": "stdout",
     "output_type": "stream",
     "text": [
      "Renewable energy sources offer several benefits, including:\n",
      "\n",
      "1. Environmental sustainability: Renewable energy sources such as solar, wind, and hydropower produce significantly lower greenhouse gas emissions compared to fossil fuels, reducing the impact of climate change.\n",
      "\n",
      "2. Energy security: By diversifying the energy mix with renewable sources, countries can reduce their reliance on imported fossil fuels, increasing energy security and independence.\n",
      "\n",
      "3. Economic growth: The renewable energy industry creates jobs and stimulates economic growth, especially in rural and remote areas\n"
     ]
    }
   ],
   "source": [
    "response = openai.ChatCompletion.create(\n",
    "    model=\"gpt-3.5-turbo\",  \n",
    "    messages=[\n",
    "        {\"role\": \"system\", \"content\": \"You are a helpful assistant.\"},\n",
    "        {\"role\": \"user\", \"content\": \"What are the benefits of renewable energy?\"},\n",
    "    ],\n",
    "    max_tokens=100,\n",
    "    temperature=0.7,\n",
    ")\n",
    "\n",
    "print(response[\"choices\"][0][\"message\"][\"content\"])\n"
   ]
  },
  {
   "cell_type": "code",
   "execution_count": 21,
   "id": "49fd4864",
   "metadata": {},
   "outputs": [
    {
     "name": "stdout",
     "output_type": "stream",
     "text": [
      "Kod HTML został zapisany w pliku artykul.html.\n"
     ]
    }
   ],
   "source": [
    "import openai\n",
    "\n",
    "# Treść artykułu\n",
    "with open(\"artykul.txt\", \"r\", encoding=\"utf-8\") as file:\n",
    "    article_content = file.read()\n",
    "\n",
    "# Prompt do OpenAI\n",
    "prompt = f\"\"\"\n",
    "Przygotuj kod HTML dla poniższego artykułu zgodnie z następującymi wytycznymi:\n",
    "- Użyj odpowiednich tagów HTML do strukturyzacji treści.\n",
    "- Oznacz miejsca, gdzie warto wstawić grafiki, używając tagu <img> z atrybutem src=\"image_placeholder.jpg\". Dodaj atrybut alt z dokładnym promptem do generowania grafiki.\n",
    "- Dodaj podpisy pod grafikami, używając odpowiedniego tagu HTML.\n",
    "- Kod HTML powinien zawierać tylko zawartość między <body> i </body>, bez <html>, <head> lub <body>.\n",
    "\n",
    "Oto artykuł:\n",
    "{article_content}\n",
    "\"\"\"\n",
    "\n",
    "# Wysyłanie prompta do OpenAI\n",
    "response = openai.ChatCompletion.create(\n",
    "    model=\"gpt-4\",\n",
    "    messages=[\n",
    "        {\"role\": \"system\", \"content\": \"You are an assistant that generates HTML code based on user input.\"},\n",
    "        {\"role\": \"user\", \"content\": prompt}\n",
    "    ],\n",
    "    max_tokens=1000,\n",
    "    temperature=0.7,\n",
    ")\n",
    "\n",
    "# Odbiór wygenerowanego kodu HTML\n",
    "generated_html = response[\"choices\"][0][\"message\"][\"content\"]\n",
    "\n",
    "# Zapis do pliku\n",
    "with open(\"artykul.html\", \"w\", encoding=\"utf-8\") as file:\n",
    "    file.write(generated_html)\n",
    "\n",
    "print(\"Kod HTML został zapisany w pliku artykul.html.\")\n"
   ]
  }
 ],
 "metadata": {
  "kernelspec": {
   "display_name": "Python 3 (ipykernel)",
   "language": "python",
   "name": "python3"
  },
  "language_info": {
   "codemirror_mode": {
    "name": "ipython",
    "version": 3
   },
   "file_extension": ".py",
   "mimetype": "text/x-python",
   "name": "python",
   "nbconvert_exporter": "python",
   "pygments_lexer": "ipython3",
   "version": "3.13.0"
  }
 },
 "nbformat": 4,
 "nbformat_minor": 5
}
